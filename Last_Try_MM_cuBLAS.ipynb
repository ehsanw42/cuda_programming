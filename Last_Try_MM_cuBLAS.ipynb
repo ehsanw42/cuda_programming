{
  "nbformat": 4,
  "nbformat_minor": 0,
  "metadata": {
    "colab": {
      "name": "Last_Try_MM_cuBLAS.ipynb",
      "provenance": [],
      "mount_file_id": "12zw4FRA6D0mA94UBX9f_eYT1x62W88IB",
      "authorship_tag": "ABX9TyOxCrLuZj32qQVfSRVb7qzY",
      "include_colab_link": true
    },
    "kernelspec": {
      "name": "python3",
      "display_name": "Python 3"
    },
    "accelerator": "GPU"
  },
  "cells": [
    {
      "cell_type": "markdown",
      "metadata": {
        "id": "view-in-github",
        "colab_type": "text"
      },
      "source": [
        "<a href=\"https://colab.research.google.com/github/ehsanw42/cuda_programming/blob/master/Last_Try_MM_cuBLAS.ipynb\" target=\"_parent\"><img src=\"https://colab.research.google.com/assets/colab-badge.svg\" alt=\"Open In Colab\"/></a>"
      ]
    },
    {
      "cell_type": "markdown",
      "metadata": {
        "id": "Mh3tOmGixfqZ"
      },
      "source": [
        "# New Section"
      ]
    },
    {
      "cell_type": "code",
      "metadata": {
        "colab": {
          "base_uri": "https://localhost:8080/"
        },
        "id": "7vqs5Sn4xlLf",
        "outputId": "b599d292-a195-40ce-bac8-2487fc56eea8"
      },
      "source": [
        "!lsb_release -a"
      ],
      "execution_count": 1,
      "outputs": [
        {
          "output_type": "stream",
          "text": [
            "No LSB modules are available.\n",
            "Distributor ID:\tUbuntu\n",
            "Description:\tUbuntu 18.04.5 LTS\n",
            "Release:\t18.04\n",
            "Codename:\tbionic\n"
          ],
          "name": "stdout"
        }
      ]
    },
    {
      "cell_type": "code",
      "metadata": {
        "id": "aooInYlSMmCG",
        "colab": {
          "base_uri": "https://localhost:8080/"
        },
        "outputId": "e8267d37-13b1-49e0-9d7c-588804575f09"
      },
      "source": [
        "!/usr/local/cuda/bin/nvcc --version"
      ],
      "execution_count": 8,
      "outputs": [
        {
          "output_type": "stream",
          "text": [
            "nvcc: NVIDIA (R) Cuda compiler driver\n",
            "Copyright (c) 2005-2019 NVIDIA Corporation\n",
            "Built on Sun_Jul_28_19:07:16_PDT_2019\n",
            "Cuda compilation tools, release 10.1, V10.1.243\n"
          ],
          "name": "stdout"
        }
      ]
    },
    {
      "cell_type": "code",
      "metadata": {
        "id": "-RpjHupW4s_9",
        "colab": {
          "base_uri": "https://localhost:8080/"
        },
        "outputId": "7ac9239d-2aa7-46e7-945e-93e6cf7f5b8a"
      },
      "source": [
        "!sudo find /usr/ -name \"libcublas*\""
      ],
      "execution_count": 3,
      "outputs": [
        {
          "output_type": "stream",
          "text": [
            "/usr/local/cuda-10.1/doc/man/man7/libcublas.so.7\n",
            "/usr/local/cuda-10.1/doc/man/man7/libcublas.7\n",
            "/usr/local/cuda-10.0/targets/x86_64-linux/lib/libcublas.so.10.0.130\n",
            "/usr/local/cuda-10.0/targets/x86_64-linux/lib/libcublas_static.a\n",
            "/usr/local/cuda-10.0/targets/x86_64-linux/lib/libcublas.so.10.0\n",
            "/usr/local/cuda-10.0/targets/x86_64-linux/lib/libcublas.so\n",
            "/usr/local/cuda-10.0/targets/x86_64-linux/lib/stubs/libcublas.so\n",
            "/usr/local/cuda-10.0/doc/man/man7/libcublas.so.7\n",
            "/usr/local/cuda-10.0/doc/man/man7/libcublas.7\n",
            "/usr/share/doc/libcublas-dev\n",
            "/usr/share/doc/libcublas10\n",
            "/usr/lib/x86_64-linux-gnu/libcublas_static.a\n",
            "/usr/lib/x86_64-linux-gnu/libcublas.so\n",
            "/usr/lib/x86_64-linux-gnu/libcublasLt_static.a\n",
            "/usr/lib/x86_64-linux-gnu/libcublasLt.so\n",
            "/usr/lib/x86_64-linux-gnu/stubs/libcublas.so\n",
            "/usr/lib/x86_64-linux-gnu/stubs/libcublasLt.so\n",
            "/usr/lib/x86_64-linux-gnu/libcublas.so.10.2.1.243\n",
            "/usr/lib/x86_64-linux-gnu/libcublasLt.so.10.2.1.243\n",
            "/usr/lib/x86_64-linux-gnu/libcublasLt.so.10\n",
            "/usr/lib/x86_64-linux-gnu/libcublas.so.10\n"
          ],
          "name": "stdout"
        }
      ]
    },
    {
      "cell_type": "code",
      "metadata": {
        "id": "1W42j2skukzj"
      },
      "source": [
        "! ln -s /usr/lib/x86_64-linux-gnu/libcublas.so.10.2.1.243 /usr/local/cuda-10.0/targets/x86_64-linux/lib/libcublas.so.10.2.1.243\r\n",
        "! ln -s /usr/lib/x86_64-linux-gnu/libcublasLt.so.10.2.1.243 /usr/local/cuda-10.0/targets/x86_64-linux/lib/libcublasLt.so.10.2.1.243\r\n",
        "! ln -s /usr/lib/x86_64-linux-gnu/libcublasLt.so.10 /usr/local/cuda-10.0/targets/x86_64-linux/lib/libcublasLt.so.10\r\n",
        "! ln -s /usr/lib/x86_64-linux-gnu/libcublasLt.so /usr/local/cuda-10.0/targets/x86_64-linux/lib/libcublasLt.so\r\n",
        "! ln -s /usr/lib/x86_64-linux-gnu/stubs/libcublasLt.so /usr/local/cuda-10.0/targets/x86_64-linux/lib/stubs/libcublasLt.so"
      ],
      "execution_count": 4,
      "outputs": []
    },
    {
      "cell_type": "code",
      "metadata": {
        "id": "w1lfMRkRtmel"
      },
      "source": [
        "!wget https://developer.download.nvidia.com/compute/cuda/repos/ubuntu1804/x86_64/libcublas10_10.2.1.243-1_amd64.deb\r\n",
        "!wget https://developer.download.nvidia.com/compute/cuda/repos/ubuntu1804/x86_64/libcublas-dev_10.2.1.243-1_amd64.deb"
      ],
      "execution_count": null,
      "outputs": []
    },
    {
      "cell_type": "code",
      "metadata": {
        "id": "ofXwUsgct0XH"
      },
      "source": [
        "! dpkg -i libcublas10_10.2.1.243-1_amd64.deb\r\n",
        "! dpkg -i libcublas-dev_10.2.1.243-1_amd64.deb"
      ],
      "execution_count": null,
      "outputs": []
    },
    {
      "cell_type": "code",
      "metadata": {
        "id": "gZEwWqE7uRWh",
        "colab": {
          "base_uri": "https://localhost:8080/"
        },
        "outputId": "5c8ba59b-e6e4-495e-9905-b6391d95842d"
      },
      "source": [
        "!ls"
      ],
      "execution_count": 5,
      "outputs": [
        {
          "output_type": "stream",
          "text": [
            "sample_data\n"
          ],
          "name": "stdout"
        }
      ]
    },
    {
      "cell_type": "code",
      "metadata": {
        "id": "MVbRSZviuXGX",
        "colab": {
          "base_uri": "https://localhost:8080/"
        },
        "outputId": "ba769f1d-17c1-4487-b862-029b8bfcbf8e"
      },
      "source": [
        "!sudo find /usr/ -name \"libcublas*\""
      ],
      "execution_count": 6,
      "outputs": [
        {
          "output_type": "stream",
          "text": [
            "/usr/local/cuda-10.0/targets/x86_64-linux/lib/libcublas.so.10.0.130\n",
            "/usr/local/cuda-10.0/targets/x86_64-linux/lib/libcublas_static.a\n",
            "/usr/local/cuda-10.0/targets/x86_64-linux/lib/libcublas.so.10.0\n",
            "/usr/local/cuda-10.0/targets/x86_64-linux/lib/libcublas.so\n",
            "/usr/local/cuda-10.0/targets/x86_64-linux/lib/stubs/libcublas.so\n",
            "/usr/local/cuda-10.0/targets/x86_64-linux/lib/stubs/libcublasLt.so\n",
            "/usr/local/cuda-10.0/targets/x86_64-linux/lib/libcublas.so.10.2.1.243\n",
            "/usr/local/cuda-10.0/targets/x86_64-linux/lib/libcublasLt.so.10.2.1.243\n",
            "/usr/local/cuda-10.0/targets/x86_64-linux/lib/libcublasLt.so.10\n",
            "/usr/local/cuda-10.0/targets/x86_64-linux/lib/libcublasLt.so\n",
            "/usr/local/cuda-10.0/doc/man/man7/libcublas.so.7\n",
            "/usr/local/cuda-10.0/doc/man/man7/libcublas.7\n",
            "/usr/local/cuda-10.1/doc/man/man7/libcublas.so.7\n",
            "/usr/local/cuda-10.1/doc/man/man7/libcublas.7\n",
            "/usr/share/doc/libcublas-dev\n",
            "/usr/share/doc/libcublas10\n",
            "/usr/lib/x86_64-linux-gnu/libcublas_static.a\n",
            "/usr/lib/x86_64-linux-gnu/libcublas.so\n",
            "/usr/lib/x86_64-linux-gnu/libcublasLt_static.a\n",
            "/usr/lib/x86_64-linux-gnu/libcublasLt.so\n",
            "/usr/lib/x86_64-linux-gnu/stubs/libcublas.so\n",
            "/usr/lib/x86_64-linux-gnu/stubs/libcublasLt.so\n",
            "/usr/lib/x86_64-linux-gnu/libcublas.so.10.2.1.243\n",
            "/usr/lib/x86_64-linux-gnu/libcublasLt.so.10.2.1.243\n",
            "/usr/lib/x86_64-linux-gnu/libcublasLt.so.10\n",
            "/usr/lib/x86_64-linux-gnu/libcublas.so.10\n"
          ],
          "name": "stdout"
        }
      ]
    },
    {
      "cell_type": "code",
      "metadata": {
        "id": "WyW-AsN3wslF"
      },
      "source": [
        "!ls"
      ],
      "execution_count": null,
      "outputs": []
    },
    {
      "cell_type": "code",
      "metadata": {
        "id": "D10q-mY8M2E3",
        "colab": {
          "base_uri": "https://localhost:8080/"
        },
        "outputId": "ca2b7ba2-83c6-437d-eda4-f740d9a11fbf"
      },
      "source": [
        "!pip install git+git://github.com/andreinechaev/nvcc4jupyter.git"
      ],
      "execution_count": 3,
      "outputs": [
        {
          "output_type": "stream",
          "text": [
            "Collecting git+git://github.com/andreinechaev/nvcc4jupyter.git\n",
            "  Cloning git://github.com/andreinechaev/nvcc4jupyter.git to /tmp/pip-req-build-22n3rp9t\n",
            "  Running command git clone -q git://github.com/andreinechaev/nvcc4jupyter.git /tmp/pip-req-build-22n3rp9t\n",
            "Building wheels for collected packages: NVCCPlugin\n",
            "  Building wheel for NVCCPlugin (setup.py) ... \u001b[?25l\u001b[?25hdone\n",
            "  Created wheel for NVCCPlugin: filename=NVCCPlugin-0.0.2-cp36-none-any.whl size=4308 sha256=c25324bb84429f4a6883e46d3f223767b121ee1e4de233eaf69eeffff0c4e340\n",
            "  Stored in directory: /tmp/pip-ephem-wheel-cache-69pq0i8r/wheels/10/c2/05/ca241da37bff77d60d31a9174f988109c61ba989e4d4650516\n",
            "Successfully built NVCCPlugin\n",
            "Installing collected packages: NVCCPlugin\n",
            "Successfully installed NVCCPlugin-0.0.2\n"
          ],
          "name": "stdout"
        }
      ]
    },
    {
      "cell_type": "code",
      "metadata": {
        "id": "_jTv5_HYsSfu",
        "colab": {
          "base_uri": "https://localhost:8080/"
        },
        "outputId": "25ab1afe-71a8-4e5d-f4c2-dc33347a62ce"
      },
      "source": [
        "%load_ext nvcc_plugin"
      ],
      "execution_count": 4,
      "outputs": [
        {
          "output_type": "stream",
          "text": [
            "created output directory at /content/src\n",
            "Out bin /content/result.out\n"
          ],
          "name": "stdout"
        }
      ]
    },
    {
      "cell_type": "code",
      "metadata": {
        "id": "oAodLboXJym5"
      },
      "source": [
        "%%cu\r\n",
        "#include \"/content/drive/MyDrive/Colab Notebooks/task3/wb.h\"\r\n",
        "#include <cuda_runtime.h>\r\n",
        "#include <cublas_v2.h> \r\n",
        "\r\n",
        "#define wbCheck(stmt)                                                     \\\r\n",
        "  do {                                                                    \\\r\n",
        "    cudaError_t err = stmt;                                               \\\r\n",
        "    if (err != cudaSuccess) {                                             \\\r\n",
        "      wbLog(ERROR, \"Failed to run stmt \", #stmt);                         \\\r\n",
        "      wbLog(ERROR, \"Got CUDA error ...  \", cudaGetErrorString(err));      \\\r\n",
        "      return -1;                                                          \\\r\n",
        "    }                                                                     \\\r\n",
        "  } while (0)\r\n",
        "\r\n",
        "\r\n",
        "int main(int argc, char **argv) {\r\n",
        "  wbArg_t args;\r\n",
        "  float *hostA; // matrix A\r\n",
        "  float *hostB; // matrix B\r\n",
        "  float *hostC; // matrix C\r\n",
        "  float *deviceA;\r\n",
        "  float *deviceB;\r\n",
        "  float *deviceC;\r\n",
        "  int numARows;    // number of matrix rows A\r\n",
        "  int numAColumns; // number of matrix columns A\r\n",
        "  int numBRows;    // number of matrix rows B\r\n",
        "  int numBColumns; // number of matrix columns B\r\n",
        "  int numCRows;    // number of matrix rows  C (set value yourself)\r\n",
        "  int numCColumns; // number of matrix columns C (set value yourself)\r\n",
        "\r\n",
        "  cublasStatus_t status; //@@ use it correct\r\n",
        "  cublasHandle_t handle; //@@ use it correct\r\n",
        "  argc = 4;\r\n",
        "  argv =  (char **) malloc(argc * sizeof(char*));\r\n",
        "  argv[0] = NULL;\r\n",
        "  argv[1] = \"/content/drive/MyDrive/Colab Notebooks/task3/input0.raw\";\r\n",
        "  argv[2] = \"/content/drive/MyDrive/Colab Notebooks/task3/input1.raw\";\r\n",
        "  argv[3] = \"/content/drive/MyDrive/Colab Notebooks/task3/output.raw\";\r\n",
        "\r\n",
        "  args = wbArg_read(argc, argv);\r\n",
        "\r\n",
        "  wbTime_start(Generic, \"Importing data and creating memory on host\");\r\n",
        "  hostA = (float *)wbImport(wbArg_getInputFile(args, 0), &numARows,\r\n",
        "                            &numAColumns);\r\n",
        "  hostB = (float *)wbImport(wbArg_getInputFile(args, 1), &numBRows,\r\n",
        "                            &numBColumns);\r\n",
        "\r\n",
        "  //@@ set numCRows and numCColumns\r\n",
        "  numCRows    = 0;\r\n",
        "  numCColumns = 0;\r\n",
        "  numCRows = numARows;\r\n",
        "  numCColumns = numBColumns;\r\n",
        "\r\n",
        "  //@@ Allocating memory for matrix hostC\r\n",
        "  hostC = (float *) malloc(numCRows * numCColumns * sizeof(float));\r\n",
        "\r\n",
        "  wbTime_stop(Generic, \"Importing data and creating memory on host\");\r\n",
        "\r\n",
        "  wbLog(TRACE, \"The dimensions of A are \", numARows, \" x \", numAColumns);\r\n",
        "  wbLog(TRACE, \"The dimensions of B are \", numBRows, \" x \", numBColumns);\r\n",
        "  wbLog(TRACE, \"The dimensions of C are \", numCRows, \" x \", numCColumns);\r\n",
        "\r\n",
        "\r\n",
        "  /* Initialize CUBLAS */\r\n",
        "  wbLog(TRACE, \"simpleCUBLAS test running..\\n\");\r\n",
        "\r\n",
        "  status = cublasCreate(&handle) ;//@@ put your code here\r\n",
        "\r\n",
        "  if (status != CUBLAS_STATUS_SUCCESS) {\r\n",
        "    wbLog(TRACE, \"!!!! CUBLAS initialization error\\n\");\r\n",
        "    return 1;\r\n",
        "  }\r\n",
        "  /* Allocate device memory for the matrices */\r\n",
        "\r\n",
        "  wbTime_start(GPU, \"Allocating GPU memory.\");\r\n",
        "  //@@ Allocate memory GPU\r\n",
        "  //@@ put your code here\r\n",
        "\r\n",
        "  cudaMalloc((void **)&deviceA, numARows * numAColumns * sizeof(float));\r\n",
        "  cudaMalloc((void **)&deviceB, numBRows * numBColumns * sizeof(float));\r\n",
        "  cudaMalloc((void **)&deviceC, numCRows * numCColumns * sizeof(float));\r\n",
        "\r\n",
        "  wbTime_stop(GPU, \"Allocating GPU memory.\");\r\n",
        "\r\n",
        "  /* Initialize the device matrices with the host matrices */\r\n",
        "  wbTime_start(GPU, \"Copying input memory to the GPU.\");\r\n",
        "  //@@ Copy memory from host to GPU\r\n",
        "  //@@ put your code here\r\n",
        "\r\n",
        "  status = cublasSetMatrix(numARows, numAColumns, sizeof (float), hostA, numARows, deviceA, numARows);\r\n",
        "  status = cublasSetMatrix(numBRows, numBColumns, sizeof (float), hostB, numBRows, deviceB, numBRows);\r\n",
        "  status = cublasSetMatrix(numCRows, numCColumns, sizeof (float), hostC, numCRows, deviceC, numCRows);\r\n",
        "\r\n",
        "  wbTime_stop(GPU, \"Copying input memory to the GPU.\");\r\n",
        "\r\n",
        "  /* Performs operation using cublas */\r\n",
        "  wbTime_start(Compute, \"Performing cuBLAS computation\");\r\n",
        "   //@@ put your code here\r\n",
        "\r\n",
        "   float alph = 1.0f;\r\n",
        "   float beta = 1.0f;\r\n",
        "\r\n",
        "   status = cublasSgemm(handle, CUBLAS_OP_N, CUBLAS_OP_N, \r\n",
        "                        numARows, numBColumns, numAColumns, \r\n",
        "                        &alph, deviceA, numARows, deviceB, numBRows,\r\n",
        "                        &beta, deviceC, numCRows\r\n",
        "                        );\r\n",
        "\r\n",
        "  wbTime_stop(Compute, \"Ending cuBLAS computation\");\r\n",
        "  /* Read the result back to host */\r\n",
        "\r\n",
        "  wbTime_start(Copy, \"Copying output memory to the CPU\");\r\n",
        "  //@@ Copy memory from GPU back to host\r\n",
        "  //@@ put your code here\r\n",
        "\r\n",
        "  status = cublasGetMatrix(numCRows, numCColumns, sizeof(float), deviceC, numCRows, hostC, numCRows);\r\n",
        "\r\n",
        "  wbTime_stop(Copy, \"Copying output memory to the CPU\");\r\n",
        "\r\n",
        "  wbTime_start(GPU, \"Freeing GPU Memory\");\r\n",
        "  //@@ Free memory on GPU\r\n",
        "\r\n",
        "  cudaFree(deviceA);\r\n",
        "  cudaFree(deviceB);\r\n",
        "  cudaFree(deviceC);\r\n",
        "\r\n",
        "  wbTime_stop(GPU, \"Freeing GPU Memory\");\r\n",
        "\r\n",
        "  wbSolution(args, hostC, numCRows, numCColumns);\r\n",
        "\r\n",
        "  free(hostA);\r\n",
        "  free(hostB);\r\n",
        "  free(hostC);\r\n",
        "\r\n",
        "\r\n",
        "  /* Shutdown cublas */\r\n",
        "  status = cublasDestroy(handle) ; //@@ put your code here\r\n",
        "\r\n",
        "  if (status != CUBLAS_STATUS_SUCCESS) {\r\n",
        "    wbLog(TRACE,  \"!!!! shutdown error (A)\\n\");\r\n",
        "    return 1;\r\n",
        "  }\r\n",
        "\r\n",
        "  return 0;\r\n",
        "}"
      ],
      "execution_count": null,
      "outputs": []
    }
  ]
}